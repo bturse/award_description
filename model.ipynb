{
 "cells": [
  {
   "cell_type": "code",
   "execution_count": 1,
   "metadata": {},
   "outputs": [],
   "source": [
    "import pandas as pd\n",
    "\n",
    "from sklearn.model_selection import train_test_split, GridSearchCV\n",
    "from sklearn.pipeline import Pipeline\n",
    "from sklearn.feature_extraction.text import CountVectorizer, TfidfTransformer\n",
    "from sklearn.neighbors import KNeighborsClassifier\n",
    "from sklearn.svm import SVC\n",
    "from sklearn.metrics import classification_report\n",
    "\n",
    "import warnings\n",
    "\n",
    "warnings.filterwarnings(\"ignore\")"
   ]
  },
  {
   "cell_type": "code",
   "execution_count": 2,
   "metadata": {},
   "outputs": [],
   "source": [
    "# import tagged unique award descriptions\n",
    "aw_desc = pd.read_csv(\n",
    "    \"tagged_award_descriptions.csv\",\n",
    "    usecols=[\"award_description\", \"desc_purpose\"],\n",
    ")"
   ]
  },
  {
   "cell_type": "code",
   "execution_count": 3,
   "metadata": {},
   "outputs": [],
   "source": [
    "X = aw_desc[\"award_description\"]\n",
    "y = aw_desc[\"desc_purpose\"]\n",
    "\n",
    "X_train, X_test, y_train, y_test = train_test_split(X, y, random_state=42)"
   ]
  },
  {
   "cell_type": "code",
   "execution_count": 4,
   "metadata": {},
   "outputs": [],
   "source": [
    "model_funcs = [{\"knn\": KNeighborsClassifier(), \"svc\": SVC()}]\n",
    "\n",
    "pipe = Pipeline(\n",
    "    [\n",
    "        (\"vect\", CountVectorizer()),\n",
    "        (\"tfdiff\", TfidfTransformer()),\n",
    "    ]\n",
    ")\n",
    "\n",
    "base_tune_grid = [\n",
    "    {\n",
    "        \"vect__stop_words\": [None, \"english\"],\n",
    "        \"vect__ngram_range\": [(1, 2), (1, 2), (1, 3)],\n",
    "        \"vect__analyzer\": [\"char\", \"word\"],\n",
    "        \"vect__max_df\": [1.0, 0.1],\n",
    "        \"vect__min_df\": [1, 0.1],\n",
    "        \"vect__max_features\": [None, 10, 50, 100],\n",
    "    }\n",
    "]\n",
    "\n",
    "knn_steps = {\"knn__n_neighbors\": [1, 5, 10], \"knn__weights\": [\"uniform\", \"distance\"]}\n",
    "\n",
    "svc_steps = {\n",
    "    \"svc__kernel\": [\"linear\", \"rbf\", \"poly\"],\n",
    "    \"svc__gamma\": [0.1, 1, 10, 100],\n",
    "    \"svc__C\": [0.1, 1, 10, 100],\n",
    "    \"svc__degree\": [0, 1, 2, 3, 4, 5],\n",
    "}\n",
    "\n",
    "cv_results = {\"knn\": None, \"svc\": None}"
   ]
  },
  {
   "cell_type": "code",
   "execution_count": 5,
   "metadata": {},
   "outputs": [],
   "source": [
    "for key, val in model_funcs[0].items():\n",
    "    if key == \"knn\":\n",
    "        tune_grid = [{**base_tune_grid[0], **knn_steps}]\n",
    "    elif key == \"svc\":\n",
    "        tune_grid = [{**base_tune_grid[0], **svc_steps}]\n",
    "    pipe.steps.append((key, val))\n",
    "    clf = GridSearchCV(pipe, tune_grid, scoring=\"f1_weighted\", refit=\"f1_weighted\")\n",
    "\n",
    "    try:\n",
    "        clf.fit(X_train, y_train)\n",
    "        cv_results[key] = (clf.best_estimator_, clf.best_score_)\n",
    "    except Exception as e:\n",
    "        print(f\"Error fitting key: {e}\")\n",
    "\n",
    "    pipe.steps.pop()"
   ]
  },
  {
   "cell_type": "code",
   "execution_count": 6,
   "metadata": {},
   "outputs": [
    {
     "name": "stdout",
     "output_type": "stream",
     "text": [
      "              precision    recall  f1-score   support\n",
      "\n",
      "           0       0.95      0.73      0.83        26\n",
      "           1       0.82      0.97      0.89        33\n",
      "\n",
      "    accuracy                           0.86        59\n",
      "   macro avg       0.89      0.85      0.86        59\n",
      "weighted avg       0.88      0.86      0.86        59\n",
      "\n",
      "              precision    recall  f1-score   support\n",
      "\n",
      "           0       0.78      0.54      0.64        26\n",
      "           1       0.71      0.88      0.78        33\n",
      "\n",
      "    accuracy                           0.73        59\n",
      "   macro avg       0.74      0.71      0.71        59\n",
      "weighted avg       0.74      0.73      0.72        59\n",
      "\n"
     ]
    }
   ],
   "source": [
    "print(classification_report(y_test, cv_results[\"svc\"][0].predict(X_test)))\n",
    "print(classification_report(y_test, cv_results[\"knn\"][0].predict(X_test)))"
   ]
  }
 ],
 "metadata": {
  "interpreter": {
   "hash": "928480d0ef898f997ccba1eec9e6bf024e761798add853b72c66a24951020fc3"
  },
  "kernelspec": {
   "display_name": "Python 3.8.8 ('.venv': venv)",
   "language": "python",
   "name": "python3"
  },
  "language_info": {
   "codemirror_mode": {
    "name": "ipython",
    "version": 3
   },
   "file_extension": ".py",
   "mimetype": "text/x-python",
   "name": "python",
   "nbconvert_exporter": "python",
   "pygments_lexer": "ipython3",
   "version": "3.10.11"
  },
  "orig_nbformat": 4
 },
 "nbformat": 4,
 "nbformat_minor": 2
}
